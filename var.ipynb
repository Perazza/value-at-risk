{
 "cells": [
  {
   "cell_type": "code",
   "execution_count": 63,
   "metadata": {},
   "outputs": [],
   "source": [
    "import yfinance as yf\n",
    "import matplotlib.pyplot as plt\n",
    "from datetime import datetime, timedelta\n",
    "from dateutil.relativedelta import relativedelta\n",
    "import numpy as np\n",
    "from scipy.stats import norm"
   ]
  },
  {
   "cell_type": "code",
   "execution_count": 58,
   "metadata": {},
   "outputs": [],
   "source": [
    "## Geting data from yfinance (Yahoo OpenSource)\n",
    "\n",
    "def getData(ticker, rangeTime, plot=None):\n",
    "\n",
    "    endDate = datetime.now()\n",
    "    startDate = endDate - relativedelta(months=rangeTime)\n",
    "\n",
    "    ticker_data = {}\n",
    "\n",
    "    for t in ticker:\n",
    "\n",
    "        data = yf.download(t, start=startDate, end=endDate)\n",
    "        ticker_data[t] = data\n",
    "\n",
    "        if plot:\n",
    "\n",
    "            # Plotar os preços de fechamento\n",
    "            plt.figure(figsize=(10, 6))\n",
    "            plt.plot(data['Close'], label='Close Price')\n",
    "            plt.title('Close price for ' + t)\n",
    "            plt.xlabel('Data')\n",
    "            plt.ylabel('Price (USD)')\n",
    "            plt.legend()\n",
    "            plt.grid(True)\n",
    "            plt.show()\n",
    "\n",
    "    return ticker_data"
   ]
  },
  {
   "cell_type": "code",
   "execution_count": null,
   "metadata": {},
   "outputs": [],
   "source": [
    "# Old way to use historical data to calculate Value-At-Risk\n",
    "\n",
    "def varHistoric(data, alpha):\n",
    "\n",
    "    '''\n",
    "    \n",
    "    Data: Historical data of a asset\n",
    "    Alpha: The % that will imply to the volatility (Confidence Level = 1 - Alpha)\n",
    "\n",
    "    '''\n",
    "\n",
    "    var = {}\n",
    "\n",
    "    for ticket, ticket_data in data.items():\n",
    "\n",
    "        ticket_data['returns'] = ticket_data['Close'].pct_change()\n",
    "        returns = ticket_data['returns'].dropna()\n",
    "        \n",
    "        returns_sorted = sorted(returns)\n",
    "\n",
    "        confidence_index = int((alpha) * len(returns_sorted))\n",
    "\n",
    "        valueRisk = -returns_sorted[confidence_index]\n",
    "\n",
    "        var[ticket] = valueRisk\n",
    "\n",
    "        print(f'The Value at Risk (VaR) with a confidence level of {(1 - alpha) * 100}% is: {var[ticket]:.2%}')\n",
    "\n",
    "    return var"
   ]
  },
  {
   "cell_type": "code",
   "execution_count": null,
   "metadata": {},
   "outputs": [],
   "source": [
    "# Calculate the Value-At-Risk by the variance\n",
    "\n",
    "def varVariance(data, alpha):\n",
    "\n",
    "    '''\n",
    "    \n",
    "    Data: Historical data of a asset\n",
    "    Alpha: The % that will imply to the volatility (Confidence Level = 1 - Alpha)\n",
    "\n",
    "    '''\n",
    "    \n",
    "    var = {}\n",
    "\n",
    "    for ticket, ticket_data in data.items():\n",
    "\n",
    "        ticket_data['returns'] = ticket_data['Close'].pct_change()\n",
    "\n",
    "        returns = ticket_data['returns'].dropna()\n",
    "        \n",
    "        mean_return = returns.mean()\n",
    "        variance = returns.var()\n",
    "\n",
    "        std_dev = np.sqrt(variance)\n",
    "\n",
    "        z_score = norm.ppf(alpha)\n",
    "        valueRisk = -(mean_return + z_score * std_dev)\n",
    "\n",
    "        var[ticket] = valueRisk\n",
    "\n",
    "        print(f'The Value at Risk (VaR) with a confidence level of {(1 - alpha) * 100}% is: {var[ticket]:.2%}')\n",
    "\n",
    "    return var"
   ]
  },
  {
   "cell_type": "code",
   "execution_count": 139,
   "metadata": {},
   "outputs": [
    {
     "name": "stderr",
     "output_type": "stream",
     "text": [
      "[*********************100%%**********************]  1 of 1 completed\n",
      "[*********************100%%**********************]  1 of 1 completed\n"
     ]
    }
   ],
   "source": [
    "ticker = ['AAPL', 'MSFT']\n",
    "rangeTime = 24\n",
    "\n",
    "data = getData(ticker, rangeTime, plot=False)"
   ]
  },
  {
   "cell_type": "code",
   "execution_count": 138,
   "metadata": {},
   "outputs": [
    {
     "name": "stdout",
     "output_type": "stream",
     "text": [
      "The Value at Risk (VaR) with a confidence level of 95.0% is: 3.05%\n",
      "The Value at Risk (VaR) with a confidence level of 95.0% is: 2.71%\n"
     ]
    }
   ],
   "source": [
    "alpha = 0.05\n",
    "\n",
    "var = varHistoric(data, alpha)"
   ]
  },
  {
   "cell_type": "code",
   "execution_count": 136,
   "metadata": {},
   "outputs": [
    {
     "name": "stdout",
     "output_type": "stream",
     "text": [
      "The Value at Risk (VaR) with a confidence level of 95.0% is: 2.91%\n",
      "The Value at Risk (VaR) with a confidence level of 95.0% is: 2.97%\n"
     ]
    }
   ],
   "source": [
    "alpha = 0.05\n",
    "\n",
    "var = varVariance(data, alpha)"
   ]
  }
 ],
 "metadata": {
  "kernelspec": {
   "display_name": "base",
   "language": "python",
   "name": "python3"
  },
  "language_info": {
   "codemirror_mode": {
    "name": "ipython",
    "version": 3
   },
   "file_extension": ".py",
   "mimetype": "text/x-python",
   "name": "python",
   "nbconvert_exporter": "python",
   "pygments_lexer": "ipython3",
   "version": "3.11.5"
  }
 },
 "nbformat": 4,
 "nbformat_minor": 2
}
